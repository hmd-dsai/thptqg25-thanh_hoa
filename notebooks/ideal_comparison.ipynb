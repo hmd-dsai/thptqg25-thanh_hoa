{
 "cells": [
  {
   "cell_type": "markdown",
   "id": "19d19b70",
   "metadata": {},
   "source": [
    "# IDEAL COMPARISON"
   ]
  },
  {
   "cell_type": "markdown",
   "id": "c2d8257c",
   "metadata": {},
   "source": [
    "## Preface\n",
    "\n",
    "If you have checked out the other notebook `eda.ipynb` where I did **Exploratory Data Analysis**, you can see that the score distributions for each subject look vastly different, with some right-skewed (\"KTPL\" - Econs and Law), and some left-skewed (\"TOAN\" - Math).\n",
    "\n",
    "As the number of entries for each subject scores is enough diverse (at least ~1000 students, up to ~40000 per subjects), I suspect that the reason for this non-comformity is that **test exams for each subject were not created equally** (that is, some exams are innately more difficult than others), and not because \"students perform better at this subject and worse at the other\".\n",
    "\n",
    "On the basis of that assumption, in this notebook, I decided to:\n",
    "- Standardize data for each subject using quantile transformer\n",
    "- Compare the results of the standardized data with the original raw data\n",
    "- [to be done] Apply the results to see changed in the cutoff scores of some programs in Hanoi University of Science and Technology\n",
    "- Some small comments on this year's THPTQG exam :)"
   ]
  },
  {
   "cell_type": "markdown",
   "id": "6f73d070",
   "metadata": {},
   "source": [
    "## Prerequisites\n",
    "1. Make sure the file `thanhhoa_processed.csv` is located in `data/processed/`. If not, refer to the script files in `scripts/` for detailed instructions on how to get the dataset file.\n",
    "2. Read outputs and remarks in the other notebook, `notebooks/eda.ipynb` for Exploratory Data Analysis. This is not compulsory, but I highly recommend you to check it out first."
   ]
  },
  {
   "cell_type": "markdown",
   "id": "3ba6f7e5",
   "metadata": {},
   "source": [
    "## [Code] Load dependencies, dataset; Declare constants"
   ]
  },
  {
   "cell_type": "code",
   "execution_count": 64,
   "id": "0313c96e",
   "metadata": {},
   "outputs": [
    {
     "name": "stdout",
     "output_type": "stream",
     "text": [
      "Dependencies loaded successfully\n",
      "Dataset loaded successfully\n",
      "Constant lists declared\n"
     ]
    }
   ],
   "source": [
    "import numpy as np\n",
    "import pandas as pd\n",
    "import matplotlib.pyplot as plt\n",
    "import seaborn as sns\n",
    "from sklearn.preprocessing import QuantileTransformer\n",
    "\n",
    "print(\"Dependencies loaded successfully\")\n",
    "\n",
    "path = \"../data/processed/thanhhoa_processed.csv\"\n",
    "df = pd.read_csv(path, index_col=\"STT\")\n",
    "\n",
    "print(\"Dataset loaded successfully\")\n",
    "\n",
    "SUBJ = [\"TOAN\", \"VAN\", \"LI\", \"HOA\", \"SINH\", \"SU\", \"DIA\", \"KTPL\", \"T_ANH\"]\n",
    "SUBJ_QT = [s + \"_qt\" for s in SUBJ]\n",
    "COMB = [\"A00\", \"A01\", \"B00\", \"C00\", \"D01\"]\n",
    "COMB_QT = [s + \"_qt\" for s in COMB]\n",
    "RANK = [\"RANK_\" + s for s in COMB]\n",
    "RANK_QT = [s + \"_qt\" for s in RANK]\n",
    "\n",
    "print(\"Constant lists declared\")"
   ]
  },
  {
   "cell_type": "markdown",
   "id": "b1e8219a",
   "metadata": {},
   "source": [
    "## [Code] Apply Quantile transformer"
   ]
  },
  {
   "cell_type": "code",
   "execution_count": 92,
   "id": "d8abba16",
   "metadata": {},
   "outputs": [
    {
     "name": "stdout",
     "output_type": "stream",
     "text": [
      "Quantile transformer applied successfully\n"
     ]
    }
   ],
   "source": [
    "qt = QuantileTransformer(output_distribution=\"uniform\", n_quantiles=1000, random_state=0) # 1000 quantiles\n",
    "\n",
    "for s in SUBJ:\n",
    "    col = df[s].to_numpy().reshape(-1, 1)\n",
    "    mask = ~np.isnan(col[:, 0])\n",
    "    transformed = np.full(col.shape[0], np.nan, dtype=float) # turns into 2D column vector ||| NaN stays as NaN || type: np.ndarray\n",
    "    \n",
    "    if mask.sum() > 0: # fit_transform only on non-nulls\n",
    "        transformed_vals = qt.fit_transform(col[mask])\n",
    "        transformed[mask] = transformed_vals.ravel() * 10 # map 0-1 to 0-10 ||| .ravel(): flatten 2D\n",
    "    \n",
    "    df[s + \"_qt\"] = transformed\n",
    "    df[s + \"_qt\"] = df[s + \"_qt\"].round(2)\n",
    "\n",
    "# Examine new data\n",
    "# print(df[SUBJ + SUBJ_QT].head())\n",
    "\n",
    "print(\"Quantile transformer applied successfully\")"
   ]
  },
  {
   "cell_type": "markdown",
   "id": "336f44a8",
   "metadata": {},
   "source": [
    "## [Code] Compute standardized subject combination scores and rankings"
   ]
  },
  {
   "cell_type": "code",
   "execution_count": 93,
   "id": "142ec99f",
   "metadata": {},
   "outputs": [
    {
     "name": "stdout",
     "output_type": "stream",
     "text": [
      "Subject combination scores for transformed data generated\n",
      "Ranking columns generated successfully\n"
     ]
    }
   ],
   "source": [
    "df[\"A00_qt\"] = df[[\"TOAN_qt\", \"LI_qt\", \"HOA_qt\"]].sum(axis = 1, min_count=3)\n",
    "df[\"A01_qt\"] = df[[\"TOAN_qt\", \"LI_qt\", \"T_ANH_qt\"]].sum(axis = 1, min_count=3)\n",
    "df[\"B00_qt\"] = df[[\"TOAN_qt\", \"HOA_qt\", \"SINH_qt\"]].sum(axis = 1, min_count=3)\n",
    "df[\"C00_qt\"] = df[[\"VAN_qt\", \"SU_qt\", \"DIA_qt\"]].sum(axis = 1, min_count=3)\n",
    "df[\"D01_qt\"] = df[[\"TOAN_qt\", \"VAN_qt\", \"T_ANH_qt\"]].sum(axis = 1, min_count=3)\n",
    "\n",
    "# print(df[COMB + COMB_QT])\n",
    "\n",
    "print(\"Subject combination scores for transformed data generated\")\n",
    "\n",
    "for s in COMB + COMB_QT:\n",
    "    df[\"RANK_\" + s] = df[s].rank(method='min', ascending=False)\n",
    "\n",
    "print(\"Ranking columns generated successfully\")\n",
    "\n",
    "# print(df[RANK + RANK_QT])\n",
    "\n",
    "# print(df.loc[df[\"SBD\"] == 28002212, RANK + RANK_QT])"
   ]
  },
  {
   "cell_type": "markdown",
   "id": "43a35088",
   "metadata": {},
   "source": [
    "## [Code] Top students in Raw and Transformed data"
   ]
  },
  {
   "cell_type": "code",
   "execution_count": 110,
   "id": "aec2c103",
   "metadata": {},
   "outputs": [
    {
     "name": "stdout",
     "output_type": "stream",
     "text": [
      "Valedictorians in raw combination scores:\n",
      "\n",
      "          A00  A00_qt  RANK_A00  RANK_A00_qt\n",
      "STT                                         \n",
      "587258  29.75   29.84       1.0         12.0\n",
      "594083  29.75   29.73       1.0         15.0\n",
      "606997  29.75   29.73       1.0         15.0\n",
      "571532  29.50   29.65       4.0         27.0\n",
      "571709  29.50   29.97       4.0          1.0\n",
      "575836  29.50   29.97       4.0          1.0\n",
      "587115  29.50   29.57       4.0         38.0\n",
      "587341  29.50   29.65       4.0         27.0\n",
      "593082  29.50   29.65       4.0         27.0\n",
      "\n",
      "\n",
      "          A01  A01_qt  RANK_A01  RANK_A01_qt\n",
      "STT                                         \n",
      "572547  29.50   29.72       1.0          3.0\n",
      "606925  29.50   29.98       1.0          1.0\n",
      "571900  29.00   29.93       3.0          2.0\n",
      "571335  28.50   29.65       4.0          6.0\n",
      "593719  28.25   29.38       5.0         14.0\n",
      "\n",
      "\n",
      "          B00  B00_qt  RANK_B00  RANK_B00_qt\n",
      "STT                                         \n",
      "572471  28.75   29.67       1.0          3.0\n",
      "581663  28.75   29.73       1.0          2.0\n",
      "592379  28.75   29.81       1.0          1.0\n",
      "587178  28.50   28.87       4.0         34.0\n",
      "605624  28.50   29.65       4.0          4.0\n",
      "\n",
      "\n",
      "          C00  C00_qt  RANK_C00  RANK_C00_qt\n",
      "STT                                         \n",
      "579939  29.50   29.98       1.0          1.0\n",
      "589791  29.50   29.98       1.0          1.0\n",
      "583643  29.25   29.84       3.0          6.0\n",
      "601727  29.25   29.87       3.0          3.0\n",
      "602703  29.25   29.87       3.0          3.0\n",
      "603298  29.25   29.87       3.0          3.0\n",
      "\n",
      "\n",
      "          D01  D01_qt  RANK_D01  RANK_D01_qt\n",
      "STT                                         \n",
      "572547  28.00   26.85       1.0        456.0\n",
      "593125  28.00   28.76       1.0         54.0\n",
      "572710  27.75   29.70       3.0          1.0\n",
      "606925  27.75   26.84       3.0        457.0\n",
      "571900  27.50   27.80       5.0        222.0\n",
      "572474  27.50   29.48       5.0          7.0\n",
      "588599  27.50   29.39       5.0          8.0\n",
      "\n",
      "\n"
     ]
    }
   ],
   "source": [
    "print(\"Top 5 students in raw combination scores:\\n\")\n",
    "\n",
    "for s in COMB:\n",
    "    print(df.loc[df[\"RANK_\" + s] <= 5, [s, s + \"_qt\", \"RANK_\" + s, \"RANK_\" + s + \"_qt\"]].sort_values(by=\"RANK_\" + s, ascending=True))\n",
    "    print(\"\\n\")"
   ]
  },
  {
   "cell_type": "code",
   "execution_count": 115,
   "id": "6df402a8",
   "metadata": {},
   "outputs": [
    {
     "name": "stdout",
     "output_type": "stream",
     "text": [
      "Top 5 students in transformed combination scores:\n",
      "\n",
      "         A00  A00_qt  RANK_A00  RANK_A00_qt\n",
      "STT                                        \n",
      "571709  29.5   29.97       4.0          1.0\n",
      "575836  29.5   29.97       4.0          1.0\n",
      "575215  29.0   29.85      18.0          3.0\n",
      "579780  29.0   29.85      18.0          3.0\n",
      "584483  29.0   29.85      18.0          3.0\n",
      "586143  29.0   29.85      18.0          3.0\n",
      "591104  29.0   29.85      18.0          3.0\n",
      "593628  29.0   29.85      18.0          3.0\n",
      "604121  29.0   29.85      18.0          3.0\n",
      "607016  29.0   29.85      18.0          3.0\n",
      "609035  29.0   29.85      18.0          3.0\n",
      "\n",
      "\n",
      "          A01  A01_qt  RANK_A01  RANK_A01_qt\n",
      "STT                                         \n",
      "606925  29.50   29.98       1.0          1.0\n",
      "571900  29.00   29.93       3.0          2.0\n",
      "572547  29.50   29.72       1.0          3.0\n",
      "572555  27.75   29.71      11.0          4.0\n",
      "571749  27.50   29.67      13.0          5.0\n",
      "\n",
      "\n",
      "          B00  B00_qt  RANK_B00  RANK_B00_qt\n",
      "STT                                         \n",
      "592379  28.75   29.81       1.0          1.0\n",
      "581663  28.75   29.73       1.0          2.0\n",
      "572471  28.75   29.67       1.0          3.0\n",
      "605624  28.50   29.65       4.0          4.0\n",
      "600961  28.25   29.61       6.0          5.0\n",
      "\n",
      "\n",
      "          C00  C00_qt  RANK_C00  RANK_C00_qt\n",
      "STT                                         \n",
      "579939  29.50   29.98       1.0          1.0\n",
      "589791  29.50   29.98       1.0          1.0\n",
      "601727  29.25   29.87       3.0          3.0\n",
      "602703  29.25   29.87       3.0          3.0\n",
      "603298  29.25   29.87       3.0          3.0\n",
      "\n",
      "\n",
      "          D01  D01_qt  RANK_D01  RANK_D01_qt\n",
      "STT                                         \n",
      "572710  27.75   29.70       3.0          1.0\n",
      "593210  27.25   29.65       8.0          2.0\n",
      "584995  27.00   29.60      10.0          3.0\n",
      "593233  26.75   29.57      18.0          4.0\n",
      "598020  26.75   29.57      18.0          4.0\n",
      "\n",
      "\n"
     ]
    }
   ],
   "source": [
    "print(\"Top 5 students in transformed combination scores:\\n\")\n",
    "\n",
    "for s in COMB:\n",
    "    print(df.loc[df[\"RANK_\" + s + \"_qt\"] <= 5, [s, s + \"_qt\", \"RANK_\" + s, \"RANK_\" + s + \"_qt\"]].sort_values(by=\"RANK_\" + s + \"_qt\", ascending=True))\n",
    "    print(\"\\n\")"
   ]
  },
  {
   "cell_type": "markdown",
   "id": "219dec1f",
   "metadata": {},
   "source": [
    "### Remarks"
   ]
  },
  {
   "cell_type": "markdown",
   "id": "6b09f2ab",
   "metadata": {},
   "source": [
    "**(1/3)**\n",
    "\n",
    "For most cases, high rankings in the original data correspond to high rankings in transformed data (top 5 usually maps to top 30). Except (as you can clearly see from the output), in the case of `D01` combination (`TOAN` - Math, `VAN` - Literature, `T_ANH` - English). One of the two valedictorians in the original data, ends up at rank 456 in the transformed data.\n",
    "\n",
    "I want you to inspect this anomaly further with me, by examining students with `index = [572547, 606925, 571900]`"
   ]
  },
  {
   "cell_type": "code",
   "execution_count": 123,
   "id": "46555c9f",
   "metadata": {},
   "outputs": [
    {
     "name": "stdout",
     "output_type": "stream",
     "text": [
      "TOAN        10.00\n",
      "TOAN_qt     10.00\n",
      "VAN          8.25\n",
      "VAN_qt       6.86\n",
      "T_ANH        9.75\n",
      "T_ANH_qt     9.99\n",
      "D01         28.00\n",
      "D01_qt      26.85\n",
      "Name: 572547, dtype: float64\n",
      "\n",
      "\n",
      "TOAN         9.75\n",
      "TOAN_qt      9.99\n",
      "VAN          8.25\n",
      "VAN_qt       6.86\n",
      "T_ANH        9.75\n",
      "T_ANH_qt     9.99\n",
      "D01         27.75\n",
      "D01_qt      26.84\n",
      "Name: 606925, dtype: float64\n",
      "\n",
      "\n",
      "TOAN        10.00\n",
      "TOAN_qt     10.00\n",
      "VAN          8.50\n",
      "VAN_qt       7.87\n",
      "T_ANH        9.00\n",
      "T_ANH_qt     9.93\n",
      "D01         27.50\n",
      "D01_qt      27.80\n",
      "Name: 571900, dtype: float64\n",
      "\n",
      "\n"
     ]
    }
   ],
   "source": [
    "D01_COLS = [\"TOAN\", \"TOAN_qt\", \"VAN\", \"VAN_qt\", \"T_ANH\", \"T_ANH_qt\", \"D01\", \"D01_qt\"]\n",
    "D01_NOTABLES = [572547, 606925, 571900]\n",
    "\n",
    "for i in D01_NOTABLES:\n",
    "    print(df.loc[i, D01_COLS])\n",
    "    print(\"\\n\")"
   ]
  },
  {
   "cell_type": "markdown",
   "id": "dc2ffcb4",
   "metadata": {},
   "source": [
    "**(2/3)**\n",
    "\n",
    "Notice something yet? Their `VAN` (Literature) scores are all penalized, unlike their `TOAN` (Math) and `T_ANH` (English) scores. Although their raw Literature scores would be perceived as \"high\", after normalization, they become average.\n",
    "\n",
    "As you can see in the raw score distribution of the 3 subjects below, Literature stands out as being incredibly right-skewed, with many students tightly packed in the 7.5-8.5 score range."
   ]
  },
  {
   "cell_type": "code",
   "execution_count": 134,
   "id": "1f32952c",
   "metadata": {},
   "outputs": [
    {
     "data": {
      "image/png": "[encoded data removed]",
      "text/plain": [
       "<Figure size 1400x300 with 3 Axes>"
      ]
     },
     "metadata": {},
     "output_type": "display_data"
    }
   ],
   "source": [
    "plt.figure(figsize=(14,3))\n",
    "\n",
    "plt.subplot(1, 3, 1)\n",
    "sns.histplot(df[\"TOAN\"], binwidth=0.25)\n",
    "\n",
    "plt.subplot(1, 3, 2)\n",
    "sns.histplot(df[\"VAN\"], binwidth=0.25)\n",
    "\n",
    "plt.subplot(1, 3, 3)\n",
    "sns.histplot(df[\"T_ANH\"], binwidth=0.25)\n",
    "\n",
    "plt.suptitle(\"Score Distribution of Subjects\", fontsize=16)\n",
    "plt.tight_layout()\n",
    "plt.show()"
   ]
  },
  {
   "cell_type": "markdown",
   "id": "9e75fa04",
   "metadata": {},
   "source": [
    "**(3/3)**\n",
    "\n",
    "And you may argue: *\"`LI` (Physics), `SU` (History), `DIA` (Geography) also have right-skewed distribution, just that the graph is not as steep as in the case of `VAN` (Literature). Why isn't there a massive mismatch between the rankings of raw vs transformed data in the subject combinations `A00` (`TOAN`, `LI`, `HOA`), `A01` (`TOAN`, `LI`, `ANH`), and `C00` (`VAN`, `SU`, `DIA`)?\"*\n",
    "\n",
    "I would put forward two arguments:\n",
    "1. It's precisely because the graph is not as \"squished in the middle\" as in the case of `VAN` that (primarily) causes the mismatch in the rankings. A tiny change in the score of `VAN` when one is in the 7-9 bunch, would cause a remarkable change in quantile ranking, and thus the quantile-transformed score of the student.\n",
    "2. Low correlation between `VAN` and `T_ANH` (0.16), `TOAN` and `VAN`(0.35) raw scores also amplifies this mismatch. In other subject combinations, with higher correlation between subjects (0.5-0.8, refer to the heatmap in `notebooks/eda.ipynb` for more details), a high score in one subject could counterbalance distortions in other subjects' scores. This compensation is much less profound in `D01` combination, making the mismatch especially noticeable."
   ]
  },
  {
   "cell_type": "markdown",
   "id": "6c101cf1",
   "metadata": {},
   "source": [
    "## Conclusion\n",
    "\n",
    "What does this mean for the Ministry of Education and Training (MoED) in general, and their THPTQG test makers in particular?\n",
    "\n",
    "To bring it up once again, disregard of some university's complex score conversion systems, all the subjects (and thus subject combinations) are treated equally in evaluating high school graduation criteria and in university admissions. This creates a huge unfairness between, say, a student who chose `T_ANH` and a student who chose `KTPL`.\n",
    "\n",
    "To make it worse, this year THPTQG policy only allows students to take maximum 4 subjects rather than 6 subjects as before. This immensely limits the number of subject combinations they can choose from (4C3 = 4 vs 6C3 = 20), so, less hope for students who accidentally chose hard subjects.\n",
    "\n",
    "The results are not reversible, of course, but I argue it's important to call this out to call for more rigorous and standardized test-making process, making sure the results of all exams are comparable regardless of subjects. Hence, preventing this problem from ever happening again in the future and ensuring a fair education system."
   ]
  },
  {
   "cell_type": "markdown",
   "id": "b24f6a47",
   "metadata": {},
   "source": [
    "### Bonus\n",
    "\n",
    "I did participate in this exam. Look at my stats below!\n",
    "\n",
    "Hooray I'm my province's valedictorian in TWO subject combinations!!! How cool!!! But yes I'm fully aware I have kind of backfired myself horribly by making this notebook.\n",
    "\n",
    "Anyway thank you for having spent your time reading me yapping from start to end, if you have."
   ]
  },
  {
   "cell_type": "code",
   "execution_count": 132,
   "id": "17002483",
   "metadata": {},
   "outputs": [
    {
     "name": "stdout",
     "output_type": "stream",
     "text": [
      "SBD            28002212.00\n",
      "MA_TINH              28.00\n",
      "TOAN                 10.00\n",
      "VAN                   8.25\n",
      "LI                    9.75\n",
      "HOA                    NaN\n",
      "SINH                   NaN\n",
      "SU                     NaN\n",
      "DIA                    NaN\n",
      "KTPL                   NaN\n",
      "T_ANH                 9.75\n",
      "A00                    NaN\n",
      "A01                  29.50\n",
      "B00                    NaN\n",
      "C00                    NaN\n",
      "D01                  28.00\n",
      "TOAN_qt              10.00\n",
      "VAN_qt                6.86\n",
      "LI_qt                 9.73\n",
      "HOA_qt                 NaN\n",
      "SINH_qt                NaN\n",
      "SU_qt                  NaN\n",
      "DIA_qt                 NaN\n",
      "KTPL_qt                NaN\n",
      "T_ANH_qt              9.99\n",
      "A00_qt                 NaN\n",
      "A01_qt               29.72\n",
      "B00_qt                 NaN\n",
      "C00_qt                 NaN\n",
      "D01_qt               26.85\n",
      "RANK_A00               NaN\n",
      "RANK_A01              1.00\n",
      "RANK_B00               NaN\n",
      "RANK_C00               NaN\n",
      "RANK_D01              1.00\n",
      "RANK_A00_qt            NaN\n",
      "RANK_A01_qt           3.00\n",
      "RANK_B00_qt            NaN\n",
      "RANK_C00_qt            NaN\n",
      "RANK_D01_qt         456.00\n",
      "Name: 572547, dtype: float64\n"
     ]
    }
   ],
   "source": [
    "print(df.loc[572547]) # In case this number looks familiar, I'm one of the 3 subjects I pointed out somewhere above"
   ]
  }
 ],
 "metadata": {
  "kernelspec": {
   "display_name": "venv",
   "language": "python",
   "name": "python3"
  },
  "language_info": {
   "codemirror_mode": {
    "name": "ipython",
    "version": 3
   },
   "file_extension": ".py",
   "mimetype": "text/x-python",
   "name": "python",
   "nbconvert_exporter": "python",
   "pygments_lexer": "ipython3",
   "version": "3.11.13"
  }
 },
 "nbformat": 4,
 "nbformat_minor": 5
}
