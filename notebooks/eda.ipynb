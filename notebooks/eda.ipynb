{
 "cells": [
  {
   "cell_type": "markdown",
   "id": "e2be16a8",
   "metadata": {},
   "source": [
    "PREREQUISITE: Make sure thanhhoa_processed.csv is located in data/processed. If not, run script files"
   ]
  },
  {
   "cell_type": "code",
   "execution_count": null,
   "id": "7a6649a1",
   "metadata": {},
   "outputs": [],
   "source": [
    "import numpy as np\n",
    "import pandas as pd\n",
    "import matplotlib as plt\n",
    "import seaborn as sns\n",
    "\n",
    "path = \"../data/processed/thanhhoa_processed.csv\"\n",
    "df = read_csv(path)\n",
    "\n",
    "df.head()"
   ]
  }
 ],
 "metadata": {
  "kernelspec": {
   "display_name": "venv",
   "language": "python",
   "name": "python3"
  },
  "language_info": {
   "name": "python",
   "version": "3.11.13"
  }
 },
 "nbformat": 4,
 "nbformat_minor": 5
}
